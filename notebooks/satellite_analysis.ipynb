{
 "cells": [
  {
   "cell_type": "markdown",
   "metadata": {},
   "source": [
    "# Initial Setup."
   ]
  },
  {
   "cell_type": "code",
   "execution_count": 1,
   "metadata": {},
   "outputs": [],
   "source": [
    "import bqplot\n",
    "import datetime\n",
    "import dateutil.parser\n",
    "import ee\n",
    "import ipywidgets\n",
    "import IPython.display\n",
    "import numpy as np\n",
    "import pprint\n",
    "import pandas as pd\n",
    "import traitlets\n",
    "\n",
    "# Configure the pretty printing output.\n",
    "pp = pprint.PrettyPrinter(depth=4)"
   ]
  },
  {
   "cell_type": "code",
   "execution_count": 2,
   "metadata": {},
   "outputs": [],
   "source": [
    "# Authenticate to the Earth Engine servers, and initialize the ee module.\n",
    "ee.Initialize()"
   ]
  },
  {
   "cell_type": "markdown",
   "metadata": {},
   "source": [
    "# Displaying a simple, static image."
   ]
  },
  {
   "cell_type": "markdown",
   "metadata": {},
   "source": [
    "To start, let's work with a Landsat 8 image collection which has been processed to surface reflectance values (i.e. the processing has attempted to remove the atmospheric effects). You can find information on this collection by searching for \"landsat 8 collection 1 SR\" in the Earth Engine [Public Data Catalog](https://explorer.earthengine.google.com/#index), or by going directly to the [USGS Landsat 8 Surface Reflectance](https://explorer.earthengine.google.com/#detail/LANDSAT%2FLC08%2FC01%2FT1_SR) data description page.\n",
    "\n",
    "The Data Description page contains the **Image ID** value *LANDSAT/LC08/C01/T1_SR*, a key piece of information that we will use in our Python code to refer to the asset."
   ]
  },
  {
   "cell_type": "code",
   "execution_count": 3,
   "metadata": {},
   "outputs": [],
   "source": [
    "l8sr = ee.ImageCollection('LANDSAT/LC08/C01/T1_SR')"
   ]
  },
  {
   "cell_type": "markdown",
   "metadata": {},
   "source": [
    "Let's count how many images are in this collection."
   ]
  },
  {
   "cell_type": "code",
   "execution_count": 4,
   "metadata": {},
   "outputs": [
    {
     "name": "stdout",
     "output_type": "stream",
     "text": [
      "649858\n"
     ]
    }
   ],
   "source": [
    "print(l8sr.size().getInfo())"
   ]
  },
  {
   "cell_type": "markdown",
   "metadata": {},
   "source": [
    "To display a single image, we can filter the collection down to a single image, and can request a \"thumbnail\"  URL for the scene."
   ]
  },
  {
   "cell_type": "markdown",
   "metadata": {},
   "source": [
    "## Get the image's band names and store them in a variable."
   ]
  },
  {
   "cell_type": "code",
   "execution_count": 5,
   "metadata": {},
   "outputs": [
    {
     "data": {
      "text/plain": [
       "['B1',\n",
       " 'B2',\n",
       " 'B3',\n",
       " 'B4',\n",
       " 'B5',\n",
       " 'B6',\n",
       " 'B7',\n",
       " 'B10',\n",
       " 'B11',\n",
       " 'sr_aerosol',\n",
       " 'pixel_qa',\n",
       " 'radsat_qa']"
      ]
     },
     "execution_count": 5,
     "metadata": {},
     "output_type": "execute_result"
    }
   ],
   "source": [
    "sample_image = ee.Image(\n",
    "    l8sr.filterDate('2017-11-01', '2017-12-02')\n",
    "        .filterBounds(ee.Geometry.Point(-73.9957, 40.7262))\n",
    "        .first()\n",
    ")\n",
    "band_names_original = sample_image.bandNames()\n",
    "band_names_original.getInfo()"
   ]
  },
  {
   "cell_type": "markdown",
   "metadata": {},
   "source": [
    "## Rename the image bands, so they are easier to read."
   ]
  },
  {
   "cell_type": "code",
   "execution_count": 6,
   "metadata": {},
   "outputs": [],
   "source": [
    "l8_bands = ee.Dictionary({\n",
    "    'B1': 'ultra_blue',\n",
    "    'B2': 'blue',\n",
    "    'B3': 'green',\n",
    "    'B4': 'red',\n",
    "    'B5': 'nir',\n",
    "    'B6': 'swir_1',\n",
    "    'B7': 'swir_2',\n",
    "    'B8': 'pan',\n",
    "    'B9': 'cirrus',\n",
    "    'B10': 'tirs_1',\n",
    "    'B11': 'tirs_2',\n",
    "    'sr_aerosol': 'sr_aerosol', \n",
    "    'pixel_qa': 'pixel_qa',\n",
    "    'radsat_qa': 'radsat_qa'\n",
    "})\n",
    "band_names_new = l8_bands.values(sample_image.bandNames())\n",
    "l8sr = l8sr.select(band_names_original, band_names_new)"
   ]
  },
  {
   "cell_type": "markdown",
   "metadata": {},
   "source": [
    "## Print out a sample image's metadata."
   ]
  },
  {
   "cell_type": "code",
   "execution_count": 7,
   "metadata": {},
   "outputs": [
    {
     "name": "stdout",
     "output_type": "stream",
     "text": [
      "{'bands': [{'crs': 'EPSG:32618',\n",
      "            'crs_transform': [30.0, 0.0, 525885.0, 0.0, -30.0, 4582215.0],\n",
      "            'data_type': {'max': 32767,\n",
      "                          'min': -32768,\n",
      "                          'precision': 'int',\n",
      "                          'type': 'PixelType'},\n",
      "            'dimensions': [7651, 7781],\n",
      "            'id': 'ultra_blue'},\n",
      "           {'crs': 'EPSG:32618',\n",
      "            'crs_transform': [30.0, 0.0, 525885.0, 0.0, -30.0, 4582215.0],\n",
      "            'data_type': {'max': 32767,\n",
      "                          'min': -32768,\n",
      "                          'precision': 'int',\n",
      "                          'type': 'PixelType'},\n",
      "            'dimensions': [7651, 7781],\n",
      "            'id': 'blue'},\n",
      "           {'crs': 'EPSG:32618',\n",
      "            'crs_transform': [30.0, 0.0, 525885.0, 0.0, -30.0, 4582215.0],\n",
      "            'data_type': {'max': 32767,\n",
      "                          'min': -32768,\n",
      "                          'precision': 'int',\n",
      "                          'type': 'PixelType'},\n",
      "            'dimensions': [7651, 7781],\n",
      "            'id': 'green'},\n",
      "           {'crs': 'EPSG:32618',\n",
      "            'crs_transform': [30.0, 0.0, 525885.0, 0.0, -30.0, 4582215.0],\n",
      "            'data_type': {'max': 32767,\n",
      "                          'min': -32768,\n",
      "                          'precision': 'int',\n",
      "                          'type': 'PixelType'},\n",
      "            'dimensions': [7651, 7781],\n",
      "            'id': 'red'},\n",
      "           {'crs': 'EPSG:32618',\n",
      "            'crs_transform': [30.0, 0.0, 525885.0, 0.0, -30.0, 4582215.0],\n",
      "            'data_type': {'max': 32767,\n",
      "                          'min': -32768,\n",
      "                          'precision': 'int',\n",
      "                          'type': 'PixelType'},\n",
      "            'dimensions': [7651, 7781],\n",
      "            'id': 'nir'},\n",
      "           {'crs': 'EPSG:32618',\n",
      "            'crs_transform': [30.0, 0.0, 525885.0, 0.0, -30.0, 4582215.0],\n",
      "            'data_type': {'max': 32767,\n",
      "                          'min': -32768,\n",
      "                          'precision': 'int',\n",
      "                          'type': 'PixelType'},\n",
      "            'dimensions': [7651, 7781],\n",
      "            'id': 'swir_1'},\n",
      "           {'crs': 'EPSG:32618',\n",
      "            'crs_transform': [30.0, 0.0, 525885.0, 0.0, -30.0, 4582215.0],\n",
      "            'data_type': {'max': 32767,\n",
      "                          'min': -32768,\n",
      "                          'precision': 'int',\n",
      "                          'type': 'PixelType'},\n",
      "            'dimensions': [7651, 7781],\n",
      "            'id': 'swir_2'},\n",
      "           {'crs': 'EPSG:32618',\n",
      "            'crs_transform': [30.0, 0.0, 525885.0, 0.0, -30.0, 4582215.0],\n",
      "            'data_type': {'max': 32767,\n",
      "                          'min': -32768,\n",
      "                          'precision': 'int',\n",
      "                          'type': 'PixelType'},\n",
      "            'dimensions': [7651, 7781],\n",
      "            'id': 'tirs_1'},\n",
      "           {'crs': 'EPSG:32618',\n",
      "            'crs_transform': [30.0, 0.0, 525885.0, 0.0, -30.0, 4582215.0],\n",
      "            'data_type': {'max': 32767,\n",
      "                          'min': -32768,\n",
      "                          'precision': 'int',\n",
      "                          'type': 'PixelType'},\n",
      "            'dimensions': [7651, 7781],\n",
      "            'id': 'tirs_2'},\n",
      "           {'crs': 'EPSG:32618',\n",
      "            'crs_transform': [30.0, 0.0, 525885.0, 0.0, -30.0, 4582215.0],\n",
      "            'data_type': {'max': 255,\n",
      "                          'min': 0,\n",
      "                          'precision': 'int',\n",
      "                          'type': 'PixelType'},\n",
      "            'dimensions': [7651, 7781],\n",
      "            'id': 'sr_aerosol'},\n",
      "           {'crs': 'EPSG:32618',\n",
      "            'crs_transform': [30.0, 0.0, 525885.0, 0.0, -30.0, 4582215.0],\n",
      "            'data_type': {'max': 65535,\n",
      "                          'min': 0,\n",
      "                          'precision': 'int',\n",
      "                          'type': 'PixelType'},\n",
      "            'dimensions': [7651, 7781],\n",
      "            'id': 'pixel_qa'},\n",
      "           {'crs': 'EPSG:32618',\n",
      "            'crs_transform': [30.0, 0.0, 525885.0, 0.0, -30.0, 4582215.0],\n",
      "            'data_type': {'max': 65535,\n",
      "                          'min': 0,\n",
      "                          'precision': 'int',\n",
      "                          'type': 'PixelType'},\n",
      "            'dimensions': [7651, 7781],\n",
      "            'id': 'radsat_qa'}],\n",
      " 'id': 'LANDSAT/LC08/C01/T1_SR/LC08_013032_20171112',\n",
      " 'properties': {'CLOUD_COVER': 87.58,\n",
      "                'CLOUD_COVER_LAND': 73.96,\n",
      "                'EARTH_SUN_DISTANCE': 0.989721,\n",
      "                'ESPA_VERSION': '2_23_0_1a',\n",
      "                'IMAGE_QUALITY_OLI': 9.0,\n",
      "                'IMAGE_QUALITY_TIRS': 9.0,\n",
      "                'LANDSAT_ID': 'LC08_L1TP_013032_20171112_20171121_01_T1',\n",
      "                'LEVEL1_PRODUCTION_DATE': 1511301257000.0,\n",
      "                'PIXEL_QA_VERSION': 'generate_pixel_qa_1.6.0',\n",
      "                'SATELLITE': 'LANDSAT_8',\n",
      "                'SENSING_TIME': '2017-11-12T15:33:57.1312799Z',\n",
      "                'SOLAR_AZIMUTH_ANGLE': 162.48143,\n",
      "                'SOLAR_ZENITH_ANGLE': 60.043739,\n",
      "                'SR_APP_VERSION': 'LaSRC_1.3.0',\n",
      "                'WRS_PATH': 13.0,\n",
      "                'WRS_ROW': 32.0,\n",
      "                'system:asset_size': 546735007,\n",
      "                'system:footprint': {'coordinates': [[...],\n",
      "                                                     [...],\n",
      "                                                     [...],\n",
      "                                                     [...],\n",
      "                                                     [...],\n",
      "                                                     [...],\n",
      "                                                     [...],\n",
      "                                                     [...],\n",
      "                                                     [...],\n",
      "                                                     [...],\n",
      "                                                     [...],\n",
      "                                                     [...],\n",
      "                                                     [...],\n",
      "                                                     [...],\n",
      "                                                     [...],\n",
      "                                                     [...],\n",
      "                                                     [...],\n",
      "                                                     [...],\n",
      "                                                     [...],\n",
      "                                                     [...]],\n",
      "                                     'type': 'LinearRing'},\n",
      "                'system:index': 'LC08_013032_20171112',\n",
      "                'system:time_start': 1510500837130.0},\n",
      " 'type': 'Image',\n",
      " 'version': 1511596665311785}\n"
     ]
    }
   ],
   "source": [
    "sample_image = ee.Image(\n",
    "    l8sr.filterDate('2017-11-10', '2017-12-01')\n",
    "        .filterBounds(ee.Geometry.Point(-73.9957, 40.7262))\n",
    "        .first()\n",
    ")\n",
    "pp.pprint(sample_image.getInfo())"
   ]
  },
  {
   "cell_type": "markdown",
   "metadata": {},
   "source": [
    "We can request a \"thumbnail\" URL for the scene."
   ]
  },
  {
   "cell_type": "code",
   "execution_count": 8,
   "metadata": {},
   "outputs": [
    {
     "data": {
      "text/html": [
       "Thumbnail URL: <a href=https://earthengine.googleapis.com/api/thumb?thumbid=b40ff49858f156890dfd297bce1966f9&token=9568fde753173ba4edf0b416806f468b>https://earthengine.googleapis.com/api/thumb?thumbid=b40ff49858f156890dfd297bce1966f9&token=9568fde753173ba4edf0b416806f468b</a>"
      ],
      "text/plain": [
       "<IPython.core.display.HTML object>"
      ]
     },
     "execution_count": 8,
     "metadata": {},
     "output_type": "execute_result"
    }
   ],
   "source": [
    "thumbnail_url = sample_image.getThumbUrl({\n",
    "    'bands': 'red,green,blue',\n",
    "    'min': 0,\n",
    "    'max': 3000,\n",
    "    'region': sample_image.geometry().bounds().getInfo()\n",
    "})\n",
    "IPython.display.HTML('Thumbnail URL: <a href={0}>{0}</a>'.format(thumbnail_url))"
   ]
  },
  {
   "cell_type": "markdown",
   "metadata": {},
   "source": [
    "The image can be displayed within the notebook, using the *IPython.display.Image()* method."
   ]
  },
  {
   "cell_type": "code",
   "execution_count": 9,
   "metadata": {},
   "outputs": [
    {
     "data": {
      "text/html": [
       "<img src=\"https://earthengine.googleapis.com/api/thumb?thumbid=b40ff49858f156890dfd297bce1966f9&token=9568fde753173ba4edf0b416806f468b\"/>"
      ],
      "text/plain": [
       "<IPython.core.display.Image object>"
      ]
     },
     "execution_count": 9,
     "metadata": {},
     "output_type": "execute_result"
    }
   ],
   "source": [
    "IPython.display.Image(url=thumbnail_url)"
   ]
  },
  {
   "cell_type": "markdown",
   "metadata": {},
   "source": [
    "A nice image, but not very interactive."
   ]
  },
  {
   "cell_type": "markdown",
   "metadata": {},
   "source": [
    "# Interactive Mapping"
   ]
  },
  {
   "cell_type": "markdown",
   "metadata": {},
   "source": [
    "The ipyleaflet package can be used to display interactive maps. Here is a basic example:"
   ]
  },
  {
   "cell_type": "code",
   "execution_count": 10,
   "metadata": {
    "scrolled": true
   },
   "outputs": [
    {
     "data": {
      "application/vnd.jupyter.widget-view+json": {
       "model_id": "85ebf02896c74f1387f7b9dc9206ff9a",
       "version_major": 2,
       "version_minor": 0
      },
      "text/html": [
       "<p>Failed to display Jupyter Widget of type <code>Map</code>.</p>\n",
       "<p>\n",
       "  If you're reading this message in the Jupyter Notebook or JupyterLab Notebook, it may mean\n",
       "  that the widgets JavaScript is still loading. If this message persists, it\n",
       "  likely means that the widgets JavaScript library is either not installed or\n",
       "  not enabled. See the <a href=\"https://ipywidgets.readthedocs.io/en/stable/user_install.html\">Jupyter\n",
       "  Widgets Documentation</a> for setup instructions.\n",
       "</p>\n",
       "<p>\n",
       "  If you're reading this message in another frontend (for example, a static\n",
       "  rendering on GitHub or <a href=\"https://nbviewer.jupyter.org/\">NBViewer</a>),\n",
       "  it may mean that your frontend doesn't currently support widgets.\n",
       "</p>\n"
      ],
      "text/plain": [
       "Map(center=[0.0, 0.0], controls=(DrawControl(layer=FeatureGroup(), polygon={'shapeOptions': {}}, polyline={'shapeOptions': {}}),), layers=(TileLayer(attribution='Map data (c) <a href=\"https://openstreetmap.org\">OpenStreetMap</a> contributors', options=['attribution', 'detect_retina', 'max_zoom', 'min_zoom', 'opacity', 'tile_size'], url='https://{s}.tile.openstreetmap.org/{z}/{x}/{y}.png'),), layout=Layout(height='400px'), options=['attribution_control', 'bounce_at_zoom_limits', 'box_zoom', 'center', 'close_popup_on_click', 'double_click_zoom', 'dragging', 'inertia', 'inertia_deceleration', 'inertia_max_speed', 'keyboard', 'keyboard_pan_offset', 'keyboard_zoom_offset', 'max_zoom', 'min_zoom', 'scroll_wheel_zoom', 'tap', 'tap_tolerance', 'touch_zoom', 'world_copy_jump', 'zoom', 'zoom_animation_threshold', 'zoom_control', 'zoom_start'], zoom=3)"
      ]
     },
     "metadata": {},
     "output_type": "display_data"
    }
   ],
   "source": [
    "import ipyleaflet\n",
    "map1 = ipyleaflet.Map(zoom=3, layout={'height':'400px'})\n",
    "dc = ipyleaflet.DrawControl()\n",
    "map1.add_control(dc)\n",
    "map1"
   ]
  },
  {
   "cell_type": "code",
   "execution_count": 11,
   "metadata": {},
   "outputs": [
    {
     "data": {
      "text/plain": [
       "{'geometry': None, 'type': 'Feature'}"
      ]
     },
     "execution_count": 11,
     "metadata": {},
     "output_type": "execute_result"
    }
   ],
   "source": [
    "# Get information from the map's drawing control.\n",
    "dc.last_draw"
   ]
  },
  {
   "cell_type": "markdown",
   "metadata": {},
   "source": [
    "To display an Earth Engine generated image on the interactive map, we can use ipyleaflet's TileLayer object. First we start by defining a function that can generate a tile layer URL from an Earth Engine image object."
   ]
  },
  {
   "cell_type": "code",
   "execution_count": 12,
   "metadata": {},
   "outputs": [],
   "source": [
    "def GetTileLayerUrl(ee_image_object):\n",
    "  map_id = ee.Image(ee_image_object).getMapId()\n",
    "  tile_url_template = \"https://earthengine.googleapis.com/map/{mapid}/{{z}}/{{x}}/{{y}}?token={token}\"\n",
    "  return tile_url_template.format(**map_id)"
   ]
  },
  {
   "cell_type": "code",
   "execution_count": 13,
   "metadata": {},
   "outputs": [],
   "source": [
    "# Style the image.\n",
    "tile_url = GetTileLayerUrl(sample_image.visualize(min=0, max=3000, gamma=1.5, bands= ['red', 'green', 'blue']))\n",
    "map1.add_layer(ipyleaflet.TileLayer(url=tile_url))"
   ]
  },
  {
   "cell_type": "markdown",
   "metadata": {},
   "source": [
    "Lets redefine our sample, expanding the date range and getting rid of out geometry filters."
   ]
  },
  {
   "cell_type": "code",
   "execution_count": 14,
   "metadata": {},
   "outputs": [
    {
     "data": {
      "application/vnd.jupyter.widget-view+json": {
       "model_id": "c834677797f84888b25617bfd74179e2",
       "version_major": 2,
       "version_minor": 0
      },
      "text/html": [
       "<p>Failed to display Jupyter Widget of type <code>Map</code>.</p>\n",
       "<p>\n",
       "  If you're reading this message in the Jupyter Notebook or JupyterLab Notebook, it may mean\n",
       "  that the widgets JavaScript is still loading. If this message persists, it\n",
       "  likely means that the widgets JavaScript library is either not installed or\n",
       "  not enabled. See the <a href=\"https://ipywidgets.readthedocs.io/en/stable/user_install.html\">Jupyter\n",
       "  Widgets Documentation</a> for setup instructions.\n",
       "</p>\n",
       "<p>\n",
       "  If you're reading this message in another frontend (for example, a static\n",
       "  rendering on GitHub or <a href=\"https://nbviewer.jupyter.org/\">NBViewer</a>),\n",
       "  it may mean that your frontend doesn't currently support widgets.\n",
       "</p>\n"
      ],
      "text/plain": [
       "Map(center=[0.0, 0.0], layers=(TileLayer(attribution='Map data (c) <a href=\"https://openstreetmap.org\">OpenStreetMap</a> contributors', options=['attribution', 'detect_retina', 'max_zoom', 'min_zoom', 'opacity', 'tile_size'], url='https://{s}.tile.openstreetmap.org/{z}/{x}/{y}.png'),), layout=Layout(height='400px'), options=['attribution_control', 'bounce_at_zoom_limits', 'box_zoom', 'center', 'close_popup_on_click', 'double_click_zoom', 'dragging', 'inertia', 'inertia_deceleration', 'inertia_max_speed', 'keyboard', 'keyboard_pan_offset', 'keyboard_zoom_offset', 'max_zoom', 'min_zoom', 'scroll_wheel_zoom', 'tap', 'tap_tolerance', 'touch_zoom', 'world_copy_jump', 'zoom', 'zoom_animation_threshold', 'zoom_control', 'zoom_start'], zoom=3)"
      ]
     },
     "metadata": {},
     "output_type": "display_data"
    }
   ],
   "source": [
    "map2 = ipyleaflet.Map(zoom=3, layout={'height':'400px'})\n",
    "map2"
   ]
  },
  {
   "cell_type": "code",
   "execution_count": 15,
   "metadata": {},
   "outputs": [],
   "source": [
    "def ReplaceOverlayLayers(map_object, ee_image_object):\n",
    "    for lyr in map_object.layers[1:]:\n",
    "        map_object.remove_layer(lyr)\n",
    "    tile_url = GetTileLayerUrl(ee_image_object)\n",
    "    map_object.add_layer(ipyleaflet.TileLayer(url=tile_url))\n",
    "        \n",
    "filtered = (\n",
    "    l8sr.filterDate('2016-01-01', '2016-02-02')\n",
    "         .median()\n",
    "#         .mean()\n",
    "#         .max()\n",
    "#         .min()\n",
    "#        .reduce(ee.Reducer.percentile([25])).rename(band_names_new)\n",
    "        .visualize(min=0, max=3000, bands=['red', 'green', 'blue'])\n",
    ")\n",
    "ReplaceOverlayLayers(map2, filtered)"
   ]
  },
  {
   "cell_type": "markdown",
   "metadata": {},
   "source": [
    "# Calculate a Spectral Index (NDVI)"
   ]
  },
  {
   "cell_type": "code",
   "execution_count": 16,
   "metadata": {},
   "outputs": [
    {
     "data": {
      "text/html": [
       "<img src=\"https://landsat.usgs.gov/sites/default/files/images/LandsatSpectralBands_20160801.jpg\"/>"
      ],
      "text/plain": [
       "<IPython.core.display.Image object>"
      ]
     },
     "execution_count": 16,
     "metadata": {},
     "output_type": "execute_result"
    }
   ],
   "source": [
    "IPython.display.Image(url='https://landsat.usgs.gov/sites/default/files/images/LandsatSpectralBands_20160801.jpg')"
   ]
  },
  {
   "cell_type": "markdown",
   "metadata": {},
   "source": [
    "The normalized difference vegetation index ($NDVI$) is a band ratio that is related to the amount of green vegetation. \n",
    "\n",
    "\\begin{equation*}\n",
    "NDVI = \\frac{NIR — RED}{NIR + RED} = \\frac{Band5 — Band4}{Band5 + Band4}\n",
    "\\end{equation*}\n",
    "\n",
    "where $NIR$ is the near infrared band and $RED$ is red band."
   ]
  },
  {
   "cell_type": "markdown",
   "metadata": {},
   "source": [
    "## Write a function to add an NDVI band to an image."
   ]
  },
  {
   "cell_type": "code",
   "execution_count": 17,
   "metadata": {},
   "outputs": [],
   "source": [
    "def AddBandNDVI(img):\n",
    "    red = img.select('red')\n",
    "    nir = img.select('nir')\n",
    "    ndvi = (nir.subtract(red)).divide(nir.add(red)).rename('ndvi')\n",
    "    return img.addBands(ndvi)\n",
    "\n",
    "l8sr = l8sr.map(AddBandNDVI)"
   ]
  },
  {
   "cell_type": "code",
   "execution_count": 18,
   "metadata": {},
   "outputs": [
    {
     "data": {
      "application/vnd.jupyter.widget-view+json": {
       "model_id": "18542aaacb3848f7a16c1acd8ae7a6d0",
       "version_major": 2,
       "version_minor": 0
      },
      "text/html": [
       "<p>Failed to display Jupyter Widget of type <code>Map</code>.</p>\n",
       "<p>\n",
       "  If you're reading this message in the Jupyter Notebook or JupyterLab Notebook, it may mean\n",
       "  that the widgets JavaScript is still loading. If this message persists, it\n",
       "  likely means that the widgets JavaScript library is either not installed or\n",
       "  not enabled. See the <a href=\"https://ipywidgets.readthedocs.io/en/stable/user_install.html\">Jupyter\n",
       "  Widgets Documentation</a> for setup instructions.\n",
       "</p>\n",
       "<p>\n",
       "  If you're reading this message in another frontend (for example, a static\n",
       "  rendering on GitHub or <a href=\"https://nbviewer.jupyter.org/\">NBViewer</a>),\n",
       "  it may mean that your frontend doesn't currently support widgets.\n",
       "</p>\n"
      ],
      "text/plain": [
       "Map(center=[0.0, 0.0], layers=(TileLayer(attribution='Map data (c) <a href=\"https://openstreetmap.org\">OpenStreetMap</a> contributors', options=['attribution', 'detect_retina', 'max_zoom', 'min_zoom', 'opacity', 'tile_size'], url='https://{s}.tile.openstreetmap.org/{z}/{x}/{y}.png'),), layout=Layout(height='400px'), options=['attribution_control', 'bounce_at_zoom_limits', 'box_zoom', 'center', 'close_popup_on_click', 'double_click_zoom', 'dragging', 'inertia', 'inertia_deceleration', 'inertia_max_speed', 'keyboard', 'keyboard_pan_offset', 'keyboard_zoom_offset', 'max_zoom', 'min_zoom', 'scroll_wheel_zoom', 'tap', 'tap_tolerance', 'touch_zoom', 'world_copy_jump', 'zoom', 'zoom_animation_threshold', 'zoom_control', 'zoom_start'], zoom=4)"
      ]
     },
     "metadata": {},
     "output_type": "display_data"
    }
   ],
   "source": [
    "map3 = ipyleaflet.Map(\n",
    "    zoom=4,\n",
    "    layout={'height':'400px'}\n",
    ")\n",
    "map3"
   ]
  },
  {
   "cell_type": "code",
   "execution_count": 19,
   "metadata": {},
   "outputs": [],
   "source": [
    "map3.add_layer(\n",
    "    ipyleaflet.TileLayer(\n",
    "        url=GetTileLayerUrl(\n",
    "            l8sr.filterDate('2014-01-01', '2014-10-01')\n",
    "                    .max()\n",
    "                    .visualize(bands=['ndvi'], min=-1, max=1, palette='grey,black,lime')\n",
    "        )\n",
    "    )\n",
    ")"
   ]
  },
  {
   "cell_type": "markdown",
   "metadata": {},
   "source": [
    "# Time Series"
   ]
  },
  {
   "cell_type": "code",
   "execution_count": 20,
   "metadata": {},
   "outputs": [],
   "source": [
    "def GetDataFrame(coords):\n",
    "    \n",
    "    pnt = ee.Geometry.Point(coords)\n",
    "    # Sample for a time series of values at the point.\n",
    "    geom_values = l8sr.filterBounds(pnt).select('ndvi').getRegion(geometry=pnt, scale=30)\n",
    "    geom_values_list = ee.List(geom_values).getInfo()\n",
    "    # Convert to a Pandas DataFrame.\n",
    "    header = geom_values_list[0]\n",
    "    data = pd.DataFrame(geom_values_list[1:], columns=header)\n",
    "    data['datetime'] = pd.to_datetime(data['time'], unit='ms', utc=True)\n",
    "    data.set_index('time')\n",
    "    data = data.sort_values('datetime')\n",
    "    data = data[['datetime', 'ndvi']]\n",
    "    return data"
   ]
  },
  {
   "cell_type": "code",
   "execution_count": 21,
   "metadata": {},
   "outputs": [],
   "source": [
    "# Plot scales.\n",
    "lc1_x = bqplot.DateScale(min=datetime.date(2013, 2, 1), max=datetime.date(2018, 1, 1))\n",
    "lc2_y = bqplot.LinearScale()\n",
    "\n",
    "# Plot type (mark).\n",
    "lc2 = bqplot.Lines(\n",
    "    x=[],\n",
    "    y=[],\n",
    "    scales={'x': lc1_x, 'y': lc2_y}, \n",
    "    display_legend=True,\n",
    ")\n",
    "\n",
    "# Plot axes.\n",
    "x_ax1 = bqplot.Axis(label='Date', scale=lc1_x, num_ticks = 6, tick_format='%Y-%b')\n",
    "x_ay2 = bqplot.Axis(label='NDVI', scale=lc2_y, orientation='vertical')\n",
    "\n",
    "# Declare the plot interactions.\n",
    "br_intsel = bqplot.interacts.BrushIntervalSelector(scale=lc1_x, marks=[lc2])\n",
    "\n",
    "# Create a figure.\n",
    "fig = bqplot.Figure(\n",
    "    marks=[lc2],\n",
    "    axes=[x_ax1, x_ay2],\n",
    "    layout={'height':'300px', 'width':'100%'},\n",
    "    interaction=br_intsel\n",
    ")\n",
    "\n",
    "# Create a map widget with a drawing control.\n",
    "map5 = ipyleaflet.Map(zoom=3)\n",
    "dc = ipyleaflet.DrawControl(polyline={}, polygon={})\n",
    "map5.add_control(dc)\n",
    "\n",
    "int_start_dp = ipywidgets.DatePicker(\n",
    "    description='Start Date',\n",
    "    disabled=True\n",
    ")\n",
    "int_end_dp = ipywidgets.DatePicker(\n",
    "    description='End Date',\n",
    "    disabled=True\n",
    ")\n",
    "\n",
    "# Create the event handlers for the map and plot.\n",
    "def handle_draw(self, action, geo_json):\n",
    "    # Get the selected coordinates from the map's drawing control.\n",
    "    coords = geo_json['geometry']['coordinates']    \n",
    "    new_df = GetDataFrame(coords)\n",
    "    lc2.x = new_df['datetime']\n",
    "    lc2.y = new_df['ndvi']\n",
    "dc.on_draw(handle_draw)\n",
    "\n",
    "def brush_selection_callback(change):\n",
    "    (t1_start, t1_end) = change.new\n",
    "    start_datetime = dateutil.parser.parse(t1_start)\n",
    "    end_datetime = dateutil.parser.parse(t1_end)\n",
    "    int_start_dp.value = start_datetime\n",
    "    int_end_dp.value = end_datetime\n",
    "    \n",
    "    # Update the layer displayed on the map.\n",
    "    filtered = (\n",
    "        l8sr.filterDate(start_datetime.isoformat(), end_datetime.isoformat())\n",
    "            .max()\n",
    "            .visualize(bands=['ndvi'], min=0, max=1, palette='grey,green,lime')\n",
    "    )\n",
    "    ReplaceOverlayLayers(map5, filtered)    \n",
    "br_intsel.observe(brush_selection_callback, names=['selected'])\n",
    "\n",
    "# Display the widgets.\n",
    "vbox = ipywidgets.VBox(\n",
    "    [\n",
    "        map5,\n",
    "        ipywidgets.HBox([\n",
    "            fig, ipywidgets.VBox([\n",
    "                ipywidgets.HTML('Selected Dates:'),\n",
    "                int_start_dp,\n",
    "                int_end_dp\n",
    "            ])\n",
    "        ])\n",
    "    ],\n",
    "    align_self='stretch'\n",
    ")"
   ]
  },
  {
   "cell_type": "code",
   "execution_count": 22,
   "metadata": {},
   "outputs": [
    {
     "data": {
      "application/vnd.jupyter.widget-view+json": {
       "model_id": "bdcfcc5a2bb54c8f956a5efdbae3ab95",
       "version_major": 2,
       "version_minor": 0
      },
      "text/html": [
       "<p>Failed to display Jupyter Widget of type <code>VBox</code>.</p>\n",
       "<p>\n",
       "  If you're reading this message in the Jupyter Notebook or JupyterLab Notebook, it may mean\n",
       "  that the widgets JavaScript is still loading. If this message persists, it\n",
       "  likely means that the widgets JavaScript library is either not installed or\n",
       "  not enabled. See the <a href=\"https://ipywidgets.readthedocs.io/en/stable/user_install.html\">Jupyter\n",
       "  Widgets Documentation</a> for setup instructions.\n",
       "</p>\n",
       "<p>\n",
       "  If you're reading this message in another frontend (for example, a static\n",
       "  rendering on GitHub or <a href=\"https://nbviewer.jupyter.org/\">NBViewer</a>),\n",
       "  it may mean that your frontend doesn't currently support widgets.\n",
       "</p>\n"
      ],
      "text/plain": [
       "VBox(children=(Map(center=[0.0, 0.0], controls=(DrawControl(layer=FeatureGroup()),), layers=(TileLayer(attribution='Map data (c) <a href=\"https://openstreetmap.org\">OpenStreetMap</a> contributors', options=['attribution', 'detect_retina', 'max_zoom', 'min_zoom', 'opacity', 'tile_size'], url='https://{s}.tile.openstreetmap.org/{z}/{x}/{y}.png'),), layout=Layout(align_self='stretch', height='400px'), options=['attribution_control', 'bounce_at_zoom_limits', 'box_zoom', 'center', 'close_popup_on_click', 'double_click_zoom', 'dragging', 'inertia', 'inertia_deceleration', 'inertia_max_speed', 'keyboard', 'keyboard_pan_offset', 'keyboard_zoom_offset', 'max_zoom', 'min_zoom', 'scroll_wheel_zoom', 'tap', 'tap_tolerance', 'touch_zoom', 'world_copy_jump', 'zoom', 'zoom_animation_threshold', 'zoom_control', 'zoom_start'], zoom=3), HBox(children=(Figure(axes=[Axis(label='Date', num_ticks=6, scale=DateScale(max=datetime.datetime(2018, 1, 1, 0, 0), min=datetime.datetime(2013, 2, 1, 0, 0)), tick_format='%Y-%b'), Axis(label='NDVI', orientation='vertical', scale=LinearScale())], fig_margin={'top': 60, 'bottom': 60, 'left': 60, 'right': 60}, interaction=BrushIntervalSelector(marks=[Lines(colors=['#1f77b4', '#ff7f0e', '#2ca02c', '#d62728', '#9467bd', '#8c564b', '#e377c2', '#7f7f7f', '#bcbd22', '#17becf'], display_legend=True, interactions={'hover': 'tooltip'}, scales={'x': DateScale(max=datetime.datetime(2018, 1, 1, 0, 0), min=datetime.datetime(2013, 2, 1, 0, 0)), 'y': LinearScale()}, scales_metadata={'x': {'orientation': 'horizontal', 'dimension': 'x'}, 'y': {'orientation': 'vertical', 'dimension': 'y'}, 'color': {'dimension': 'color'}}, tooltip_style={'opacity': 0.9})], scale=DateScale(max=datetime.datetime(2018, 1, 1, 0, 0), min=datetime.datetime(2013, 2, 1, 0, 0))), layout=Layout(height='300px', width='100%'), marks=[Lines(colors=['#1f77b4', '#ff7f0e', '#2ca02c', '#d62728', '#9467bd', '#8c564b', '#e377c2', '#7f7f7f', '#bcbd22', '#17becf'], display_legend=True, interactions={'hover': 'tooltip'}, scales={'x': DateScale(max=datetime.datetime(2018, 1, 1, 0, 0), min=datetime.datetime(2013, 2, 1, 0, 0)), 'y': LinearScale()}, scales_metadata={'x': {'orientation': 'horizontal', 'dimension': 'x'}, 'y': {'orientation': 'vertical', 'dimension': 'y'}, 'color': {'dimension': 'color'}}, tooltip_style={'opacity': 0.9})], scale_x=LinearScale(allow_padding=False, max=1.0, min=0.0), scale_y=LinearScale(allow_padding=False, max=1.0, min=0.0)), VBox(children=(HTML(value='Selected Dates:'), DatePicker(value=None, description='Start Date', disabled=True), DatePicker(value=None, description='End Date', disabled=True)))))))"
      ]
     },
     "metadata": {},
     "output_type": "display_data"
    }
   ],
   "source": [
    "vbox"
   ]
  }
 ],
 "metadata": {
  "kernelspec": {
   "display_name": "Python 3",
   "language": "python",
   "name": "python3"
  },
  "language_info": {
   "codemirror_mode": {
    "name": "ipython",
    "version": 3
   },
   "file_extension": ".py",
   "mimetype": "text/x-python",
   "name": "python",
   "nbconvert_exporter": "python",
   "pygments_lexer": "ipython3",
   "version": "3.6.3"
  }
 },
 "nbformat": 4,
 "nbformat_minor": 2
}
